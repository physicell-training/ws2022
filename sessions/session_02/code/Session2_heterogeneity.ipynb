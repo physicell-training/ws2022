{
 "cells": [
  {
   "cell_type": "markdown",
   "id": "57bf8d94",
   "metadata": {},
   "source": [
    "# PhysiCell 2021 Virtual Workshop and Hackathon\n",
    "## Session 2: PhysiCell First Dive\n",
    "* Refresher: Sample and Template Projects \n",
    "* Refresher: Project Structure\n",
    "* Cells, Phenotype, and Cell Defintions\n",
    "* Learn about general modeling workflow\n",
    "  * Basic \t(Sessions 1, 2)\n",
    "  * Intermediate \t(Session 5)\n",
    "  * Full \t(Sessions 6-12)\n",
    "* Populate, build, and run a basic model (Basic Workflow)\n",
    "* Load and visualize data in Python"
   ]
  },
  {
   "cell_type": "markdown",
   "id": "47b4b262",
   "metadata": {},
   "source": [
    "### Code Section 1"
   ]
  },
  {
   "cell_type": "code",
   "execution_count": null,
   "id": "2eac72a9",
   "metadata": {},
   "outputs": [],
   "source": [
    "from pyMCDS import pyMCDS\n",
    "import numpy as np\n",
    "import matplotlib.pyplot as plt"
   ]
  },
  {
   "cell_type": "code",
   "execution_count": null,
   "id": "44e1ac12",
   "metadata": {},
   "outputs": [],
   "source": [
    "## Type pyMCDS. and hit the tab key to see methods \n",
    "\n",
    "!ls ./output/*.xml "
   ]
  },
  {
   "cell_type": "markdown",
   "id": "aaa57822",
   "metadata": {},
   "source": [
    "### Code Section 2"
   ]
  },
  {
   "cell_type": "code",
   "execution_count": null,
   "id": "46f66ef0",
   "metadata": {},
   "outputs": [],
   "source": [
    "mcds = pyMCDS('output00000000.xml', 'output')"
   ]
  },
  {
   "cell_type": "code",
   "execution_count": null,
   "id": "b5603299",
   "metadata": {},
   "outputs": [],
   "source": []
  },
  {
   "cell_type": "code",
   "execution_count": null,
   "id": "7c59496c",
   "metadata": {},
   "outputs": [],
   "source": []
  },
  {
   "cell_type": "code",
   "execution_count": null,
   "id": "04532cf9",
   "metadata": {},
   "outputs": [],
   "source": [
    "print(mcds.get_time())  # what simulation time is saved here? \n",
    "print(mcds.get_cell_variables()) # what data are saved in the cells? \n",
    "print(mcds.get_substrate_names())  # what diffusing substrates? "
   ]
  },
  {
   "cell_type": "code",
   "execution_count": null,
   "id": "bfb06db4",
   "metadata": {},
   "outputs": [],
   "source": [
    "mcds.data.keys()"
   ]
  },
  {
   "cell_type": "markdown",
   "id": "09516d65",
   "metadata": {},
   "source": [
    "### Code Section 3"
   ]
  },
  {
   "cell_type": "code",
   "execution_count": null,
   "id": "2824c6fb",
   "metadata": {},
   "outputs": [],
   "source": [
    "np.mean( mcds.data['discrete_cells']['oncoprotein'] )"
   ]
  },
  {
   "cell_type": "code",
   "execution_count": null,
   "id": "53f23948",
   "metadata": {},
   "outputs": [],
   "source": [
    "import matplotlib \n",
    "\n",
    "matplotlib.rc('xtick', labelsize=15) \n",
    "matplotlib.rc('ytick', labelsize=15) \n",
    "\n",
    "plt.hist( mcds.data['discrete_cells']['oncoprotein'] )\n"
   ]
  },
  {
   "cell_type": "markdown",
   "id": "8c44f028",
   "metadata": {},
   "source": [
    "### Code Section 4"
   ]
  },
  {
   "cell_type": "code",
   "execution_count": null,
   "id": "16c22285",
   "metadata": {},
   "outputs": [],
   "source": [
    "cx = mcds.data['discrete_cells']['position_x']\n",
    "cy = mcds.data['discrete_cells']['position_y']\n",
    "op = mcds.data['discrete_cells']['oncoprotein']"
   ]
  },
  {
   "cell_type": "code",
   "execution_count": null,
   "id": "98986162",
   "metadata": {},
   "outputs": [],
   "source": [
    "plt.scatter(cx,cy,c=op)\n",
    "plt.axis([-250,250,-250,250])"
   ]
  },
  {
   "cell_type": "markdown",
   "id": "84a25d16",
   "metadata": {},
   "source": [
    "### Code Section 5"
   ]
  },
  {
   "cell_type": "code",
   "execution_count": null,
   "id": "31fc78a3",
   "metadata": {},
   "outputs": [],
   "source": [
    "plt.clf()\n",
    "plt.scatter( cx , cy, c=op, s=30 )\n",
    "\n",
    "plt.axis( 'image' )\n",
    "plt.axis( [-250,250,-250,250] )\n",
    "\n",
    "plt.colorbar()\n",
    "\n",
    "plt.title( 'Cells colored by oncoprotein value' , size=20)\n",
    "plt.xlabel( 'x' , size=15 ) \n",
    "plt.ylabel( 'y', size=15 )"
   ]
  },
  {
   "cell_type": "markdown",
   "id": "d4dad6da",
   "metadata": {},
   "source": [
    "### Code Section 6"
   ]
  },
  {
   "cell_type": "code",
   "execution_count": null,
   "id": "079fd23d",
   "metadata": {},
   "outputs": [],
   "source": [
    "mcds = pyMCDS('output00000006.xml', 'output')\n",
    "t=mcds.get_time()\n",
    "cx = mcds.data['discrete_cells']['position_x']\n",
    "cy = mcds.data['discrete_cells']['position_y']\n",
    "op = mcds.data['discrete_cells']['oncoprotein']\n",
    "plt.clf()\n",
    "plt.hist( op ) \n",
    "plt.title( 'oncoprotein at t=' + \\\n",
    "str(t/60) + ' hours' , size=20)"
   ]
  },
  {
   "cell_type": "markdown",
   "id": "2ef07f28",
   "metadata": {},
   "source": [
    "### Code Section 7 "
   ]
  },
  {
   "cell_type": "code",
   "execution_count": null,
   "id": "4eaa1325",
   "metadata": {},
   "outputs": [],
   "source": [
    "cycle = mcds.data['discrete_cells']['cycle_model']\n",
    "cycle = cycle.astype( int ) \n",
    "\n",
    "live = np.argwhere( cycle < 100 ).flatten()\n",
    "dead = np.argwhere( cycle >= 100 ).flatten()\n",
    "\n",
    "print( len( live) )\n",
    "print( len(dead) )"
   ]
  },
  {
   "cell_type": "markdown",
   "id": "ed04d554",
   "metadata": {},
   "source": [
    "### Code Section 8"
   ]
  },
  {
   "cell_type": "code",
   "execution_count": null,
   "id": "e3337986",
   "metadata": {},
   "outputs": [],
   "source": [
    "# Live and dead cell counts\n",
    "n_live = len( live ); print( n_live) \n",
    "n_dead = len( dead ); print( n_dead ); \n",
    "\n",
    "# Mean oncoprotein in live cells only \n",
    "print( np.mean( op[live] ) )\n",
    "\n",
    "\n",
    "# Let's scatter plot of only live cells  \n",
    "plt.clf()\n",
    "plt.scatter( cx[live],cy[live],c=op[live],s=5); \n",
    "plt.colorbar()\n",
    "plt.axis('image')\n",
    "plt.axis([-400,400,-400,400])\n",
    "plt.title( 'Live cells colored by p at t=' +str(t/60) + ' hr',size=20)"
   ]
  },
  {
   "cell_type": "markdown",
   "id": "f17fc9d9",
   "metadata": {},
   "source": [
    "### Code Section 8a"
   ]
  },
  {
   "cell_type": "code",
   "execution_count": null,
   "id": "d554bfb7",
   "metadata": {},
   "outputs": [],
   "source": [
    "ind = np.argwhere( (cycle<100) & (op>5) ) .flatten()\n",
    "plt.clf()\n",
    "plt.scatter( cx[ind], cy[ind], c=op[ind], s=10 )\n",
    "plt.title( 'Live cells with p>5 at t='\\\n",
    "+str(t/60) + 'hr', size=20)\n",
    "plt.axis('image')\n",
    "plt.axis([-400,400,-400,400])\n",
    "plt.colorbar()"
   ]
  },
  {
   "cell_type": "markdown",
   "id": "6ee8560f",
   "metadata": {},
   "source": [
    "### Code Section 9 "
   ]
  },
  {
   "cell_type": "code",
   "execution_count": null,
   "id": "fbbd1ac3",
   "metadata": {},
   "outputs": [],
   "source": [
    "plt.clf()\n",
    "print( mcds.get_substrate_names() ); "
   ]
  },
  {
   "cell_type": "code",
   "execution_count": null,
   "id": "ac779a43",
   "metadata": {},
   "outputs": [],
   "source": [
    "o2 = mcds.get_concentrations( 'oxygen' );\n",
    "X,Y = mcds.get_2D_mesh(); \n",
    "\n",
    "plt.clf()\n",
    "plt.contourf(X,Y,o2[:,:,0]);\n",
    "plt.colorbar()\n",
    "plt.axis('image')"
   ]
  },
  {
   "cell_type": "markdown",
   "id": "04c85355",
   "metadata": {},
   "source": [
    "### Code Section 10 "
   ]
  },
  {
   "cell_type": "code",
   "execution_count": null,
   "id": "e80df018",
   "metadata": {},
   "outputs": [],
   "source": [
    "circle_size = 5\n",
    "\n",
    "plt.clf()\n",
    "mcds.get_substrate_names(); \n",
    "\n",
    "o2 = mcds.get_concentrations( 'oxygen' );\n",
    "X,Y = mcds.get_2D_mesh(); \n",
    "plt.contourf(X,Y,o2[:,:,0],cmap='spring');\n",
    "plt.colorbar()\n",
    "\n",
    "plt.scatter( cx[live],cy[live],c=op[live],s=circle_size); \n",
    "plt.axis('image')\n",
    "plt.axis([-400,400,-400,400])\n",
    "plt.title( 'Live cells colored by p at t=' +str(t/60) + ' hr', size=20)\n",
    "\n",
    "# let's plot dead cells as white and transparent\n",
    "plt.scatter( cx[dead],cy[dead],c='w',s=circle_size, alpha=0.5 ); "
   ]
  },
  {
   "cell_type": "markdown",
   "id": "11aac970",
   "metadata": {},
   "source": [
    "### Code Section 11"
   ]
  },
  {
   "cell_type": "code",
   "execution_count": null,
   "id": "22418280",
   "metadata": {},
   "outputs": [],
   "source": [
    "# Let's get live and dead cell counts, mean p (in live cells). We need to loop overall simulation times \n",
    "\n",
    "last_index = 6;\n",
    "live_count = np.zeros( last_index+1 ); \n",
    "dead_count = np.zeros( last_index+1 );\n",
    "mean_p = np.zeros( last_index+1 );\n",
    "std_p = np.zeros( last_index+1 );\n",
    "times = np.zeros( last_index+1 ); \n",
    "for n in range( 0,last_index+1 ):\n",
    "\tfilename='output'+\"%08i\"%n+'.xml'\n",
    "\tmcds=pyMCDS(filename,'output')\n",
    "\ttimes[n]= mcds.get_time()\n",
    "\tcycle=mcds.data['discrete_cells']['cycle_model']\n",
    "\tp = mcds.data['discrete_cells']['oncoprotein']\n",
    "\tlive = np.argwhere(cycle<100).flatten()\n",
    "\tdead = np.argwhere(cycle>=100).flatten()\n",
    "\tlive_count[n] = len(live)\n",
    "\tdead_count[n] = len(dead)\n",
    "\tmean_p[n] = np.mean( p[live] )\n",
    "\tstd_p[n] = np.std( p[live] )\n"
   ]
  },
  {
   "cell_type": "markdown",
   "id": "41b474a6",
   "metadata": {},
   "source": [
    "### Code Section 12"
   ]
  },
  {
   "cell_type": "code",
   "execution_count": null,
   "id": "8ce51f3f",
   "metadata": {},
   "outputs": [],
   "source": [
    "plt.clf()\n",
    "plt.plot( times, live_count , 'r-o' )\n",
    "plt.plot( times, dead_count , 'b-o' ); \n",
    "plt.legend( {'live', 'dead' } ) "
   ]
  },
  {
   "cell_type": "code",
   "execution_count": null,
   "id": "fd735478",
   "metadata": {},
   "outputs": [],
   "source": [
    "poly=np.polyfit( times,np.log(live_count),1) \n",
    "print( poly[0] )\n",
    "# growth rate is 0th element\n",
    "# in units of 1/min \n",
    "# 0.0005928392815655603"
   ]
  },
  {
   "cell_type": "code",
   "execution_count": null,
   "id": "13506cf1",
   "metadata": {},
   "outputs": [],
   "source": [
    "plt.clf()\n",
    "plt.plot(times,mean_p);\n",
    "# mean increases rapidly \n",
    "# due to selection processes\n"
   ]
  },
  {
   "cell_type": "markdown",
   "id": "646daa86",
   "metadata": {},
   "source": [
    "### Code Section 13"
   ]
  },
  {
   "cell_type": "code",
   "execution_count": null,
   "id": "4d6569e4",
   "metadata": {},
   "outputs": [],
   "source": [
    "n = 3\n",
    "filename='output'+\"%08i\"%n+'.xml'\n",
    "mcds=pyMCDS(filename,'output')\n",
    "t = mcds.get_time()\n",
    "cell_type=mcds.data['discrete_cells']['cell_type']\n",
    "cell_type=cell_type.astype(int)\n",
    "\n",
    "ind1 = np.argwhere(cell_type==1).flatten(); # director \n",
    "ind2 = np.argwhere(cell_type==2).flatten(); # cargo \n",
    "ind3 = np.argwhere(cell_type==3).flatten(); # worker \n",
    "\n",
    "cx = mcds.data['discrete_cells']['position_x']\n",
    "cy = mcds.data['discrete_cells']['position_y']"
   ]
  },
  {
   "cell_type": "markdown",
   "id": "dfb38d7b",
   "metadata": {},
   "source": [
    "### Code Section 14"
   ]
  },
  {
   "cell_type": "code",
   "execution_count": null,
   "id": "72f60be3",
   "metadata": {},
   "outputs": [],
   "source": [
    "circle_size=20\n",
    "\n",
    "plt.clf()\n",
    "plt.figure(figsize=(15,15))\n",
    "plt.scatter(cx[ind1],cy[ind1],c='g',s=circle_size) \n",
    "plt.scatter(cx[ind2],cy[ind2],c='b',s=circle_size) \n",
    "plt.scatter(cx[ind3],cy[ind3],c='r',s=circle_size) \n",
    "plt.axis('square');"
   ]
  },
  {
   "cell_type": "markdown",
   "id": "dffd4671",
   "metadata": {},
   "source": [
    "### Code Section 15"
   ]
  },
  {
   "cell_type": "code",
   "execution_count": null,
   "id": "e7661a8c",
   "metadata": {},
   "outputs": [],
   "source": [
    "mcds.get_substrate_names(); \n",
    "\n",
    "cs = mcds.get_concentrations( 'cargo signal' );\n",
    "X,Y = mcds.get_2D_mesh(); \n",
    "\n",
    "plt.clf()\n",
    "plt.figure(figsize=(15,15))\n",
    "plt.contourf(X,Y,cs[:,:,0],cmap='gray');\n",
    "\n",
    "plt.scatter(cx[ind1],cy[ind1],c='g',s=circle_size) \n",
    "plt.scatter(cx[ind2],cy[ind2],c='b',s=circle_size) \n",
    "plt.scatter(cx[ind3],cy[ind3],c='r',s=circle_size) \n",
    "plt.axis('square');"
   ]
  },
  {
   "cell_type": "code",
   "execution_count": null,
   "id": "4cc9f187",
   "metadata": {},
   "outputs": [],
   "source": []
  }
 ],
 "metadata": {
  "kernelspec": {
   "display_name": "Python 3",
   "language": "python",
   "name": "python3"
  },
  "language_info": {
   "codemirror_mode": {
    "name": "ipython",
    "version": 3
   },
   "file_extension": ".py",
   "mimetype": "text/x-python",
   "name": "python",
   "nbconvert_exporter": "python",
   "pygments_lexer": "ipython3",
   "version": "3.8.8"
  }
 },
 "nbformat": 4,
 "nbformat_minor": 5
}
