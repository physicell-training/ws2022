{
 "cells": [
  {
   "cell_type": "markdown",
   "id": "57bf8d94",
   "metadata": {},
   "source": [
    "# PhysiCell 2021 Virtual Workshop and Hackathon\n",
    "## Session 2: PhysiCell First Dive\n",
    "* Refresher: Sample and Template Projects \n",
    "* Refresher: Project Structure\n",
    "* Cells, Phenotype, and Cell Defintions\n",
    "* Learn about general modeling workflow\n",
    "  * Basic \t(Sessions 1, 2)\n",
    "  * Intermediate \t(Session 5)\n",
    "  * Full \t(Sessions 6-12)\n",
    "* Populate, build, and run a basic model (Basic Workflow)\n",
    "* Load and visualize data in Python"
   ]
  },
  {
   "cell_type": "markdown",
   "id": "47b4b262",
   "metadata": {},
   "source": [
    "### Code Section 1"
   ]
  },
  {
   "cell_type": "code",
   "execution_count": 1,
   "id": "2eac72a9",
   "metadata": {},
   "outputs": [],
   "source": [
    "#  add Python-loader repo to the path \n",
    "import sys\n",
    "sys.path.insert(0, '../Python-loader/')\n",
    "from pyMCDS import pyMCDS\n",
    "\n",
    "import numpy as np\n",
    "import matplotlib.pyplot as plt"
   ]
  },
  {
   "cell_type": "code",
   "execution_count": 2,
   "id": "44e1ac12",
   "metadata": {},
   "outputs": [
    {
     "name": "stdout",
     "output_type": "stream",
     "text": [
      "./output/PhysiCell_settings.xml\n",
      "./output/final.xml\n",
      "./output/initial.xml\n",
      "./output/output00000000.xml\n",
      "./output/output00000001.xml\n",
      "./output/output00000002.xml\n",
      "./output/output00000003.xml\n",
      "./output/output00000004.xml\n",
      "./output/output00000005.xml\n",
      "./output/output00000006.xml\n"
     ]
    }
   ],
   "source": [
    "## Type pyMCDS. and hit the tab key to see methods \n",
    "\n",
    "!ls ./output/*.xml "
   ]
  },
  {
   "cell_type": "markdown",
   "id": "aaa57822",
   "metadata": {},
   "source": [
    "### Code Section 2"
   ]
  },
  {
   "cell_type": "code",
   "execution_count": 3,
   "id": "46f66ef0",
   "metadata": {},
   "outputs": [
    {
     "name": "stdout",
     "output_type": "stream",
     "text": [
      "Reading output\\output00000000.xml\n",
      "Reading output\\initial_mesh0.mat\n",
      "Reading output\\output00000000_microenvironment0.mat\n",
      "Parsing oxygen data\n",
      "working on discrete cell data...\n",
      "\n",
      "Reading output\\output00000000_cells.mat\n"
     ]
    }
   ],
   "source": [
    "mcds = pyMCDS('output00000000.xml', 'output')"
   ]
  },
  {
   "cell_type": "code",
   "execution_count": 5,
   "id": "04532cf9",
   "metadata": {},
   "outputs": [
    {
     "name": "stdout",
     "output_type": "stream",
     "text": [
      "0.0\n",
      "['ID', 'position_x', 'position_y', 'position_z', 'total_volume', 'cell_type', 'cycle_model', 'current_phase', 'elapsed_time_in_phase', 'nuclear_volume', 'cytoplasmic_volume', 'fluid_fraction', 'calcified_fraction', 'orientation_x', 'orientation_y', 'orientation_z', 'polarity', 'velocity_x', 'velocity_y', 'velocity_z', 'pressure', 'number_of_nuclei', 'damage', 'total_attack_time', 'contact_with_basement_membrane', 'current_cycle_phase_exit_rate', 'dead', 'current_death_model', 'death_rates_0', 'death_rates_1', 'cytoplasmic_biomass_change_rate', 'nuclear_biomass_change_rate', 'fluid_change_rate', 'calcification_rate', 'target_solid_cytoplasmic', 'target_solid_nuclear', 'target_fluid_fraction', 'radius', 'nuclear_radius', 'surface_area', 'cell_cell_adhesion_strength', 'cell_BM_adhesion_strength', 'cell_cell_repulsion_strength', 'cell_BM_repulsion_strength', 'cell_adhesion_affinities', 'relative_maximum_adhesion_distance', 'maximum_number_of_attachments', 'attachment_elastic_constant', 'attachment_rate', 'detachment_rate', 'is_motile', 'persistence_time', 'migration_speed', 'migration_bias_direction_x', 'migration_bias_direction_y', 'migration_bias_direction_z', 'migration_bias', 'motility_vector_x', 'motility_vector_y', 'motility_vector_z', 'chemotaxis_index', 'chemotaxis_direction', 'chemotactic_sensitivities', 'secretion_rates', 'uptake_rates', 'saturation_densities', 'net_export_rates', 'internalized_total_substrates', 'fraction_released_at_death', 'fraction_transferred_when_ingested', 'dead_phagocytosis_rate', 'live_phagocytosis_rates', 'attack_rates', 'damage_rate', 'fusion_rates', 'transformation_rates', 'oncoprotein']\n",
      "['oxygen']\n"
     ]
    }
   ],
   "source": [
    "print(mcds.get_time())  # what simulation time is saved here? \n",
    "print(mcds.get_cell_variables()) # what data are saved in the cells? \n",
    "print(mcds.get_substrate_names())  # what diffusing substrates? "
   ]
  },
  {
   "cell_type": "code",
   "execution_count": 6,
   "id": "bfb06db4",
   "metadata": {},
   "outputs": [
    {
     "data": {
      "text/plain": [
       "dict_keys(['metadata', 'mesh', 'continuum_variables', 'discrete_cells'])"
      ]
     },
     "execution_count": 6,
     "metadata": {},
     "output_type": "execute_result"
    }
   ],
   "source": [
    "mcds.data.keys()"
   ]
  },
  {
   "cell_type": "markdown",
   "id": "09516d65",
   "metadata": {},
   "source": [
    "### Code Section 3"
   ]
  },
  {
   "cell_type": "code",
   "execution_count": 7,
   "id": "2824c6fb",
   "metadata": {},
   "outputs": [
    {
     "data": {
      "text/plain": [
       "1.778537662441421"
      ]
     },
     "execution_count": 7,
     "metadata": {},
     "output_type": "execute_result"
    }
   ],
   "source": [
    "np.mean( mcds.data['discrete_cells']['oncoprotein'] )"
   ]
  },
  {
   "cell_type": "code",
   "execution_count": 13,
   "id": "53f23948",
   "metadata": {},
   "outputs": [
    {
     "data": {
      "text/plain": [
       "(array([458., 111.,  96.,  68.,  65.,  49.,  18.,  13.,   6.,   5.]),\n",
       " array([ 0.,  1.,  2.,  3.,  4.,  5.,  6.,  7.,  8.,  9., 10.]),\n",
       " <BarContainer object of 10 artists>)"
      ]
     },
     "execution_count": 13,
     "metadata": {},
     "output_type": "execute_result"
    }
   ],
   "source": [
    "import matplotlib \n",
    "\n",
    "%matplotlib qt \n",
    "\n",
    "matplotlib.rc('xtick', labelsize=15) \n",
    "matplotlib.rc('ytick', labelsize=15) \n",
    "\n",
    "plt.hist( mcds.data['discrete_cells']['oncoprotein'] )\n"
   ]
  },
  {
   "cell_type": "markdown",
   "id": "8c44f028",
   "metadata": {},
   "source": [
    "### Code Section 4"
   ]
  },
  {
   "cell_type": "code",
   "execution_count": 14,
   "id": "16c22285",
   "metadata": {},
   "outputs": [],
   "source": [
    "cx = mcds.data['discrete_cells']['position_x']\n",
    "cy = mcds.data['discrete_cells']['position_y']\n",
    "op = mcds.data['discrete_cells']['oncoprotein']"
   ]
  },
  {
   "cell_type": "code",
   "execution_count": 15,
   "id": "98986162",
   "metadata": {},
   "outputs": [
    {
     "data": {
      "text/plain": [
       "(-250.0, 250.0, -250.0, 250.0)"
      ]
     },
     "execution_count": 15,
     "metadata": {},
     "output_type": "execute_result"
    }
   ],
   "source": [
    "plt.clf()\n",
    "plt.scatter(cx,cy,c=op)\n",
    "plt.axis([-250,250,-250,250])"
   ]
  },
  {
   "cell_type": "markdown",
   "id": "84a25d16",
   "metadata": {},
   "source": [
    "### Code Section 5"
   ]
  },
  {
   "cell_type": "code",
   "execution_count": 16,
   "id": "31fc78a3",
   "metadata": {},
   "outputs": [
    {
     "data": {
      "text/plain": [
       "Text(0, 0.5, 'y')"
      ]
     },
     "execution_count": 16,
     "metadata": {},
     "output_type": "execute_result"
    }
   ],
   "source": [
    "plt.clf()\n",
    "plt.scatter( cx , cy, c=op, s=30 )\n",
    "\n",
    "plt.axis( 'image' )\n",
    "plt.axis( [-250,250,-250,250] )\n",
    "\n",
    "plt.colorbar()\n",
    "\n",
    "plt.title( 'Cells colored by oncoprotein value' , size=20)\n",
    "plt.xlabel( 'x' , size=15 ) \n",
    "plt.ylabel( 'y', size=15 )"
   ]
  },
  {
   "cell_type": "markdown",
   "id": "d4dad6da",
   "metadata": {},
   "source": [
    "### Code Section 6"
   ]
  },
  {
   "cell_type": "code",
   "execution_count": 17,
   "id": "079fd23d",
   "metadata": {},
   "outputs": [
    {
     "name": "stdout",
     "output_type": "stream",
     "text": [
      "Reading output\\output00000006.xml\n",
      "Reading output\\initial_mesh0.mat\n",
      "Reading output\\output00000006_microenvironment0.mat\n",
      "Parsing oxygen data\n",
      "working on discrete cell data...\n",
      "\n",
      "Reading output\\output00000006_cells.mat\n"
     ]
    },
    {
     "data": {
      "text/plain": [
       "Text(0.5, 1.0, 'oncoprotein at t=36.0 hours')"
      ]
     },
     "execution_count": 17,
     "metadata": {},
     "output_type": "execute_result"
    }
   ],
   "source": [
    "mcds = pyMCDS('output00000006.xml', 'output')\n",
    "t=mcds.get_time()\n",
    "cx = mcds.data['discrete_cells']['position_x']\n",
    "cy = mcds.data['discrete_cells']['position_y']\n",
    "op = mcds.data['discrete_cells']['oncoprotein']\n",
    "plt.clf()\n",
    "plt.hist( op ) \n",
    "plt.title( 'oncoprotein at t=' + \\\n",
    "str(t/60) + ' hours' , size=20)"
   ]
  },
  {
   "cell_type": "markdown",
   "id": "2ef07f28",
   "metadata": {},
   "source": [
    "### Code Section 7 "
   ]
  },
  {
   "cell_type": "code",
   "execution_count": 18,
   "id": "4eaa1325",
   "metadata": {},
   "outputs": [
    {
     "name": "stdout",
     "output_type": "stream",
     "text": [
      "1847\n",
      "72\n"
     ]
    }
   ],
   "source": [
    "cycle = mcds.data['discrete_cells']['cycle_model']\n",
    "cycle = cycle.astype( int ) \n",
    "\n",
    "live = np.argwhere( cycle < 100 ).flatten()\n",
    "dead = np.argwhere( cycle >= 100 ).flatten()\n",
    "\n",
    "print( len( live) )\n",
    "print( len(dead) )"
   ]
  },
  {
   "cell_type": "markdown",
   "id": "ed04d554",
   "metadata": {},
   "source": [
    "### Code Section 8"
   ]
  },
  {
   "cell_type": "code",
   "execution_count": 19,
   "id": "e3337986",
   "metadata": {},
   "outputs": [
    {
     "name": "stdout",
     "output_type": "stream",
     "text": [
      "1847\n",
      "72\n",
      "4.0644245571021145\n"
     ]
    },
    {
     "data": {
      "text/plain": [
       "Text(0.5, 1.0, 'Live cells colored by p at t=36.0 hr')"
      ]
     },
     "execution_count": 19,
     "metadata": {},
     "output_type": "execute_result"
    }
   ],
   "source": [
    "# Live and dead cell counts\n",
    "n_live = len( live ); print( n_live) \n",
    "n_dead = len( dead ); print( n_dead ); \n",
    "\n",
    "# Mean oncoprotein in live cells only \n",
    "print( np.mean( op[live] ) )\n",
    "\n",
    "\n",
    "# Let's scatter plot of only live cells  \n",
    "plt.clf()\n",
    "plt.scatter( cx[live],cy[live],c=op[live],s=5); \n",
    "plt.colorbar()\n",
    "plt.axis('image')\n",
    "plt.axis([-400,400,-400,400])\n",
    "plt.title( 'Live cells colored by p at t=' +str(t/60) + ' hr',size=20)"
   ]
  },
  {
   "cell_type": "markdown",
   "id": "f17fc9d9",
   "metadata": {},
   "source": [
    "### Code Section 8a"
   ]
  },
  {
   "cell_type": "code",
   "execution_count": 20,
   "id": "d554bfb7",
   "metadata": {},
   "outputs": [
    {
     "data": {
      "text/plain": [
       "<matplotlib.colorbar.Colorbar at 0x28dce37e9a0>"
      ]
     },
     "execution_count": 20,
     "metadata": {},
     "output_type": "execute_result"
    }
   ],
   "source": [
    "ind = np.argwhere( (cycle<100) & (op>5) ) .flatten()\n",
    "plt.clf()\n",
    "plt.scatter( cx[ind], cy[ind], c=op[ind], s=10 )\n",
    "plt.title( 'Live cells with p>5 at t='\\\n",
    "+str(t/60) + 'hr', size=20)\n",
    "plt.axis('image')\n",
    "plt.axis([-400,400,-400,400])\n",
    "plt.colorbar()"
   ]
  },
  {
   "cell_type": "markdown",
   "id": "6ee8560f",
   "metadata": {},
   "source": [
    "### Code Section 9 "
   ]
  },
  {
   "cell_type": "code",
   "execution_count": 21,
   "id": "fbbd1ac3",
   "metadata": {},
   "outputs": [
    {
     "name": "stdout",
     "output_type": "stream",
     "text": [
      "['oxygen']\n"
     ]
    }
   ],
   "source": [
    "plt.clf()\n",
    "print( mcds.get_substrate_names() ); "
   ]
  },
  {
   "cell_type": "code",
   "execution_count": 22,
   "id": "ac779a43",
   "metadata": {},
   "outputs": [
    {
     "data": {
      "text/plain": [
       "(-490.0, 490.0, -490.0, 490.0)"
      ]
     },
     "execution_count": 22,
     "metadata": {},
     "output_type": "execute_result"
    }
   ],
   "source": [
    "o2 = mcds.get_concentrations( 'oxygen' );\n",
    "X,Y = mcds.get_2D_mesh(); \n",
    "\n",
    "plt.clf()\n",
    "plt.contourf(X,Y,o2[:,:,0]);\n",
    "plt.colorbar()\n",
    "plt.axis('image')"
   ]
  },
  {
   "cell_type": "markdown",
   "id": "04c85355",
   "metadata": {},
   "source": [
    "### Code Section 10 "
   ]
  },
  {
   "cell_type": "code",
   "execution_count": 23,
   "id": "e80df018",
   "metadata": {},
   "outputs": [],
   "source": [
    "circle_size = 5\n",
    "\n",
    "plt.clf()\n",
    "mcds.get_substrate_names(); \n",
    "\n",
    "o2 = mcds.get_concentrations( 'oxygen' );\n",
    "X,Y = mcds.get_2D_mesh(); \n",
    "plt.contourf(X,Y,o2[:,:,0],cmap='spring');\n",
    "plt.colorbar()\n",
    "\n",
    "plt.scatter( cx[live],cy[live],c=op[live],s=circle_size); \n",
    "plt.axis('image')\n",
    "plt.axis([-400,400,-400,400])\n",
    "plt.title( 'Live cells colored by p at t=' +str(t/60) + ' hr', size=20)\n",
    "\n",
    "# let's plot dead cells as white and transparent\n",
    "plt.scatter( cx[dead],cy[dead],c='w',s=circle_size, alpha=0.5 ); "
   ]
  },
  {
   "cell_type": "markdown",
   "id": "11aac970",
   "metadata": {},
   "source": [
    "### Code Section 11"
   ]
  },
  {
   "cell_type": "code",
   "execution_count": 24,
   "id": "22418280",
   "metadata": {},
   "outputs": [
    {
     "name": "stdout",
     "output_type": "stream",
     "text": [
      "Reading output\\output00000000.xml\n",
      "Reading output\\initial_mesh0.mat\n",
      "Reading output\\output00000000_microenvironment0.mat\n",
      "Parsing oxygen data\n",
      "working on discrete cell data...\n",
      "\n",
      "Reading output\\output00000000_cells.mat\n",
      "Reading output\\output00000001.xml\n",
      "Reading output\\initial_mesh0.mat\n",
      "Reading output\\output00000001_microenvironment0.mat\n",
      "Parsing oxygen data\n",
      "working on discrete cell data...\n",
      "\n",
      "Reading output\\output00000001_cells.mat\n",
      "Reading output\\output00000002.xml\n",
      "Reading output\\initial_mesh0.mat\n",
      "Reading output\\output00000002_microenvironment0.mat\n",
      "Parsing oxygen data\n",
      "working on discrete cell data...\n",
      "\n",
      "Reading output\\output00000002_cells.mat\n",
      "Reading output\\output00000003.xml\n",
      "Reading output\\initial_mesh0.mat\n",
      "Reading output\\output00000003_microenvironment0.mat\n",
      "Parsing oxygen data\n",
      "working on discrete cell data...\n",
      "\n",
      "Reading output\\output00000003_cells.mat\n",
      "Reading output\\output00000004.xml\n",
      "Reading output\\initial_mesh0.mat\n",
      "Reading output\\output00000004_microenvironment0.mat\n",
      "Parsing oxygen data\n",
      "working on discrete cell data...\n",
      "\n",
      "Reading output\\output00000004_cells.mat\n",
      "Reading output\\output00000005.xml\n",
      "Reading output\\initial_mesh0.mat\n",
      "Reading output\\output00000005_microenvironment0.mat\n",
      "Parsing oxygen data\n",
      "working on discrete cell data...\n",
      "\n",
      "Reading output\\output00000005_cells.mat\n",
      "Reading output\\output00000006.xml\n",
      "Reading output\\initial_mesh0.mat\n",
      "Reading output\\output00000006_microenvironment0.mat\n",
      "Parsing oxygen data\n",
      "working on discrete cell data...\n",
      "\n",
      "Reading output\\output00000006_cells.mat\n"
     ]
    }
   ],
   "source": [
    "# Let's get live and dead cell counts, mean p (in live cells). We need to loop overall simulation times \n",
    "\n",
    "last_index = 6;\n",
    "live_count = np.zeros( last_index+1 ); \n",
    "dead_count = np.zeros( last_index+1 );\n",
    "mean_p = np.zeros( last_index+1 );\n",
    "std_p = np.zeros( last_index+1 );\n",
    "times = np.zeros( last_index+1 ); \n",
    "for n in range( 0,last_index+1 ):\n",
    "\tfilename='output'+\"%08i\"%n+'.xml'\n",
    "\tmcds=pyMCDS(filename,'output')\n",
    "\ttimes[n]= mcds.get_time()\n",
    "\tcycle=mcds.data['discrete_cells']['cycle_model']\n",
    "\tp = mcds.data['discrete_cells']['oncoprotein']\n",
    "\tlive = np.argwhere(cycle<100).flatten()\n",
    "\tdead = np.argwhere(cycle>=100).flatten()\n",
    "\tlive_count[n] = len(live)\n",
    "\tdead_count[n] = len(dead)\n",
    "\tmean_p[n] = np.mean( p[live] )\n",
    "\tstd_p[n] = np.std( p[live] )\n"
   ]
  },
  {
   "cell_type": "markdown",
   "id": "41b474a6",
   "metadata": {},
   "source": [
    "### Code Section 12"
   ]
  },
  {
   "cell_type": "code",
   "execution_count": 25,
   "id": "8ce51f3f",
   "metadata": {},
   "outputs": [
    {
     "data": {
      "text/plain": [
       "<matplotlib.legend.Legend at 0x28dcdf2b850>"
      ]
     },
     "execution_count": 25,
     "metadata": {},
     "output_type": "execute_result"
    }
   ],
   "source": [
    "plt.clf()\n",
    "plt.plot( times, live_count , 'r-o' )\n",
    "plt.plot( times, dead_count , 'b-o' ); \n",
    "plt.legend( {'live', 'dead' } ) "
   ]
  },
  {
   "cell_type": "code",
   "execution_count": 26,
   "id": "fd735478",
   "metadata": {},
   "outputs": [
    {
     "name": "stdout",
     "output_type": "stream",
     "text": [
      "0.0003373436446715521\n"
     ]
    }
   ],
   "source": [
    "poly=np.polyfit( times,np.log(live_count),1) \n",
    "print( poly[0] )\n",
    "# growth rate is 0th element\n",
    "# in units of 1/min \n",
    "# 0.0003373436446715521"
   ]
  },
  {
   "cell_type": "code",
   "execution_count": 27,
   "id": "13506cf1",
   "metadata": {},
   "outputs": [],
   "source": [
    "plt.clf()\n",
    "plt.plot(times,mean_p);\n",
    "# mean increases rapidly \n",
    "# due to selection processes\n"
   ]
  },
  {
   "cell_type": "markdown",
   "id": "646daa86",
   "metadata": {},
   "source": [
    "### Code Section 13"
   ]
  },
  {
   "cell_type": "code",
   "execution_count": 28,
   "id": "4d6569e4",
   "metadata": {},
   "outputs": [
    {
     "name": "stdout",
     "output_type": "stream",
     "text": [
      "Reading output\\output00000003.xml\n",
      "Reading output\\initial_mesh0.mat\n",
      "Reading output\\output00000003_microenvironment0.mat\n",
      "Parsing director signal data\n",
      "Parsing cargo signal data\n",
      "working on discrete cell data...\n",
      "\n",
      "Reading output\\output00000003_cells.mat\n"
     ]
    }
   ],
   "source": [
    "n = 3\n",
    "filename='output'+\"%08i\"%n+'.xml'\n",
    "mcds=pyMCDS(filename,'output')\n",
    "t = mcds.get_time()\n",
    "cell_type=mcds.data['discrete_cells']['cell_type']\n",
    "cell_type=cell_type.astype(int)\n",
    "\n",
    "ind1 = np.argwhere(cell_type==1).flatten(); # director \n",
    "ind2 = np.argwhere(cell_type==2).flatten(); # cargo \n",
    "ind3 = np.argwhere(cell_type==3).flatten(); # worker \n",
    "\n",
    "cx = mcds.data['discrete_cells']['position_x']\n",
    "cy = mcds.data['discrete_cells']['position_y']"
   ]
  },
  {
   "cell_type": "markdown",
   "id": "dfb38d7b",
   "metadata": {},
   "source": [
    "### Code Section 14"
   ]
  },
  {
   "cell_type": "code",
   "execution_count": 30,
   "id": "72f60be3",
   "metadata": {},
   "outputs": [],
   "source": [
    "circle_size=20\n",
    "\n",
    "plt.clf()\n",
    "# plt.figure(figsize=(15,15))\n",
    "plt.scatter(cx[ind1],cy[ind1],c='g',s=circle_size) \n",
    "plt.scatter(cx[ind2],cy[ind2],c='b',s=circle_size) \n",
    "plt.scatter(cx[ind3],cy[ind3],c='r',s=circle_size) \n",
    "plt.axis('square');"
   ]
  },
  {
   "cell_type": "markdown",
   "id": "dffd4671",
   "metadata": {},
   "source": [
    "### Code Section 15"
   ]
  },
  {
   "cell_type": "code",
   "execution_count": 31,
   "id": "e7661a8c",
   "metadata": {},
   "outputs": [],
   "source": [
    "mcds.get_substrate_names(); \n",
    "\n",
    "cs = mcds.get_concentrations( 'cargo signal' );\n",
    "X,Y = mcds.get_2D_mesh(); \n",
    "\n",
    "plt.clf()\n",
    "# plt.figure(figsize=(15,15))\n",
    "plt.contourf(X,Y,cs[:,:,0],cmap='gray');\n",
    "\n",
    "plt.scatter(cx[ind1],cy[ind1],c='g',s=circle_size) \n",
    "plt.scatter(cx[ind2],cy[ind2],c='b',s=circle_size) \n",
    "plt.scatter(cx[ind3],cy[ind3],c='r',s=circle_size) \n",
    "plt.axis('square');"
   ]
  },
  {
   "cell_type": "code",
   "execution_count": null,
   "id": "4cc9f187",
   "metadata": {},
   "outputs": [],
   "source": []
  }
 ],
 "metadata": {
  "kernelspec": {
   "display_name": "Python 3 (ipykernel)",
   "language": "python",
   "name": "python3"
  },
  "language_info": {
   "codemirror_mode": {
    "name": "ipython",
    "version": 3
   },
   "file_extension": ".py",
   "mimetype": "text/x-python",
   "name": "python",
   "nbconvert_exporter": "python",
   "pygments_lexer": "ipython3",
   "version": "3.9.12"
  }
 },
 "nbformat": 4,
 "nbformat_minor": 5
}
